{
 "cells": [
  {
   "cell_type": "code",
   "execution_count": null,
   "metadata": {},
   "outputs": [],
   "source": [
    "from __future__ import print_function\n",
    "from builtins import range\n",
    "import os\n",
    "import sys\n",
    "import shutil\n",
    "import pickle\n",
    "from utils import blockPrint, enablePrint\n",
    "from caption import Vocabulary\n",
    "from data import get_train_loader\n",
    "\n",
    "import numpy as np\n",
    "\n",
    "from args import vocab_pkl_path, train_caption_pkl_path, feature_h5_path\n",
    "from args import num_epochs, batch_size, learning_rate, ss_factor\n",
    "from args import projected_size, hidden_size, mid_size\n",
    "from args import feature_size, max_frames, max_words\n",
    "from args import use_cuda, use_checkpoint\n",
    "from args import banet_pth_path, optimizer_pth_path\n",
    "from args import best_banet_pth_path, best_optimizer_pth_path\n",
    "from args import test_range, test_prediction_txt_path, test_reference_txt_path\n",
    "from args import log_environment\n",
    "# from tensorboard_logger import configure, log_value\n",
    "\n",
    "# from evaluate import evaluate\n",
    "# from model import BANet\n",
    "\n",
    "\n",
    "# from tensorboard_logger import configure, log_value\n",
    "# sys.path.append('./coco-caption/')\n",
    "# from pycocotools.coco import COCO"
   ]
  },
  {
   "cell_type": "code",
   "execution_count": null,
   "metadata": {},
   "outputs": [],
   "source": [
    "# 加载词典\n",
    "with open(vocab_pkl_path, 'rb') as f:\n",
    "    vocab = pickle.load(f)\n",
    "vocab_size = len(vocab)"
   ]
  },
  {
   "cell_type": "code",
   "execution_count": 1,
   "metadata": {},
   "outputs": [
    {
     "ename": "ImportError",
     "evalue": "No module named 'tensorboard_logger'",
     "output_type": "error",
     "traceback": [
      "\u001b[0;31m---------------------------------------------------------------------------\u001b[0m",
      "\u001b[0;31mImportError\u001b[0m                               Traceback (most recent call last)",
      "\u001b[0;32m<ipython-input-1-18f3c3035bd8>\u001b[0m in \u001b[0;36m<module>\u001b[0;34m()\u001b[0m\n\u001b[0;32m----> 1\u001b[0;31m \u001b[0;32mfrom\u001b[0m \u001b[0mtensorboard_logger\u001b[0m \u001b[0;32mimport\u001b[0m \u001b[0mconfigure\u001b[0m\u001b[0;34m,\u001b[0m \u001b[0mlog_value\u001b[0m\u001b[0;34m\u001b[0m\u001b[0m\n\u001b[0m",
      "\u001b[0;31mImportError\u001b[0m: No module named 'tensorboard_logger'"
     ]
    }
   ],
   "source": []
  }
 ],
 "metadata": {
  "kernelspec": {
   "display_name": "Python 3",
   "language": "python",
   "name": "python3"
  },
  "language_info": {
   "codemirror_mode": {
    "name": "ipython",
    "version": 3
   },
   "file_extension": ".py",
   "mimetype": "text/x-python",
   "name": "python",
   "nbconvert_exporter": "python",
   "pygments_lexer": "ipython3",
   "version": "3.5.2"
  }
 },
 "nbformat": 4,
 "nbformat_minor": 2
}
