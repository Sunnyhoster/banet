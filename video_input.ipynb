{
 "cells": [
  {
   "cell_type": "code",
   "execution_count": 17,
   "metadata": {},
   "outputs": [],
   "source": [
    "from __future__ import print_function\n",
    "from __future__ import division\n",
    "from __future__ import absolute_import"
   ]
  },
  {
   "cell_type": "code",
   "execution_count": 18,
   "metadata": {},
   "outputs": [],
   "source": [
    "import os\n",
    "import cv2\n",
    "import skimage\n",
    "import numpy as np\n",
    "import h5py\n",
    "import torch\n",
    "from torch.autograd import Variable"
   ]
  },
  {
   "cell_type": "code",
   "execution_count": 19,
   "metadata": {},
   "outputs": [],
   "source": [
    "from args import video_root, video_sort_lambda\n",
    "from args import feature_h5_path, feature_h5_feats, feature_h5_lens\n",
    "from args import max_frames, feature_size"
   ]
  },
  {
   "cell_type": "code",
   "execution_count": 20,
   "metadata": {},
   "outputs": [],
   "source": [
    "from model import AppearanceEncoder, MotionEncoder"
   ]
  },
  {
   "cell_type": "code",
   "execution_count": 37,
   "metadata": {},
   "outputs": [],
   "source": [
    "video_path = \"videoExample/ZJL1004.mp4\"\n",
    "\n",
    "try:\n",
    "    cap = cv2.VideoCapture(video_path)\n",
    "except:\n",
    "    print('can not open %s.' %video_path)\n",
    "    pass"
   ]
  },
  {
   "cell_type": "code",
   "execution_count": 38,
   "metadata": {},
   "outputs": [],
   "source": [
    "frames = []\n",
    "frame_count = 0\n",
    "\n",
    "while True:\n",
    "    ret, frame = cap.read()\n",
    "    if ret is False:\n",
    "        break\n",
    "    frame = frame[:,:,::-1]      #????\n",
    "    frames.append(frame)\n",
    "    frame_count += 1"
   ]
  },
  {
   "cell_type": "code",
   "execution_count": 39,
   "metadata": {},
   "outputs": [],
   "source": [
    "indices = np.linspace(8, frame_count - 7, max_frames, endpoint=False, dtype=int)"
   ]
  },
  {
   "cell_type": "code",
   "execution_count": 41,
   "metadata": {},
   "outputs": [],
   "source": [
    "frames = np.array(frames)\n",
    "frames_list = frames[indices]\n",
    "clip_list = []\n",
    "for index in indices:\n",
    "    clip_list.append(frames[index - 8 : index + 8])\n",
    "clip_list = np.array(clip_list)\n"
   ]
  },
  {
   "cell_type": "code",
   "execution_count": 110,
   "metadata": {},
   "outputs": [],
   "source": [
    "image = [[1],[1]]\n",
    "image = np.array(image)"
   ]
  },
  {
   "cell_type": "code",
   "execution_count": 111,
   "metadata": {},
   "outputs": [
    {
     "data": {
      "text/plain": [
       "array([[1],\n",
       "       [1]])"
      ]
     },
     "execution_count": 111,
     "metadata": {},
     "output_type": "execute_result"
    }
   ],
   "source": [
    "image"
   ]
  },
  {
   "cell_type": "code",
   "execution_count": 114,
   "metadata": {},
   "outputs": [
    {
     "data": {
      "text/plain": [
       "2"
      ]
     },
     "execution_count": 114,
     "metadata": {},
     "output_type": "execute_result"
    }
   ],
   "source": [
    "len(image.shape)"
   ]
  },
  {
   "cell_type": "code",
   "execution_count": 115,
   "metadata": {},
   "outputs": [],
   "source": [
    "image = image[:, :, None]"
   ]
  },
  {
   "cell_type": "code",
   "execution_count": 116,
   "metadata": {},
   "outputs": [
    {
     "data": {
      "text/plain": [
       "(2, 1, 1)"
      ]
     },
     "execution_count": 116,
     "metadata": {},
     "output_type": "execute_result"
    }
   ],
   "source": [
    "image.shape"
   ]
  },
  {
   "cell_type": "code",
   "execution_count": 117,
   "metadata": {},
   "outputs": [],
   "source": [
    "if len(image.shape) == 2:\n",
    "    # 把单通道的灰度图复制三遍变成三通道的图片\n",
    "    image = np.tile(image[:, :, None], 3)\n",
    "elif len(image.shape) == 4:\n",
    "    image = image[:, :, :, 0]"
   ]
  },
  {
   "cell_type": "code",
   "execution_count": 118,
   "metadata": {},
   "outputs": [
    {
     "data": {
      "text/plain": [
       "3"
      ]
     },
     "execution_count": 118,
     "metadata": {},
     "output_type": "execute_result"
    }
   ],
   "source": [
    "len(image.shape)"
   ]
  },
  {
   "cell_type": "code",
   "execution_count": null,
   "metadata": {},
   "outputs": [],
   "source": []
  },
  {
   "cell_type": "code",
   "execution_count": 119,
   "metadata": {},
   "outputs": [],
   "source": [
    "image = np.tile(image[:, :, None], 3)"
   ]
  },
  {
   "cell_type": "code",
   "execution_count": 120,
   "metadata": {},
   "outputs": [
    {
     "data": {
      "text/plain": [
       "array([[[[1, 1, 1]]],\n",
       "\n",
       "\n",
       "       [[[1, 1, 1]]]])"
      ]
     },
     "execution_count": 120,
     "metadata": {},
     "output_type": "execute_result"
    }
   ],
   "source": [
    "image"
   ]
  },
  {
   "cell_type": "code",
   "execution_count": 122,
   "metadata": {},
   "outputs": [
    {
     "data": {
      "text/plain": [
       "4"
      ]
     },
     "execution_count": 122,
     "metadata": {},
     "output_type": "execute_result"
    }
   ],
   "source": [
    "len(image.shape)"
   ]
  },
  {
   "cell_type": "code",
   "execution_count": 123,
   "metadata": {},
   "outputs": [
    {
     "data": {
      "text/plain": [
       "(2, 1, 1, 3)"
      ]
     },
     "execution_count": 123,
     "metadata": {},
     "output_type": "execute_result"
    }
   ],
   "source": [
    "image.shape"
   ]
  },
  {
   "cell_type": "code",
   "execution_count": 11,
   "metadata": {},
   "outputs": [
    {
     "name": "stdout",
     "output_type": "stream",
     "text": [
      "(60, 224, 224, 3)\n"
     ]
    }
   ],
   "source": [
    "from __future__ import print_function\n",
    "from __future__ import division\n",
    "from __future__ import absolute_import\n",
    "\n",
    "import os\n",
    "import cv2\n",
    "import h5py\n",
    "import numpy as np\n",
    "import skimage\n",
    "import tensorflow as tf\n",
    "\n",
    "video_path = \"../ZJL2478.mp4\"\n",
    "\n",
    "max_frames = 60\n",
    "frames = []\n",
    "frame_count = 0\n",
    "cap = cv2.VideoCapture(video_path)\n",
    "\n",
    "while True:\n",
    "    ret, frame = cap.read()\n",
    "    \n",
    "    if ret is False:\n",
    "        break\n",
    "    a=frame\n",
    "    frame = frame[:, :, ::-1]         #???????????????\n",
    "    b=frame\n",
    "    frames.append(frame)\n",
    "    frame_count += 1\n",
    "if frames == []:\n",
    "    print(\"can not open %s\", video_path)\n",
    "    \n",
    "indices = np.linspace(8, frame_count - 7, max_frames, endpoint=False, dtype=int)\n",
    "frames = np.array(frames)\n",
    "frame_list = frames[indices]\n",
    "clip_list = []\n",
    "for index in indices:\n",
    "    clip_list.append(frames[index - 8:index + 8])\n",
    "clip_list = np.array(clip_list)\n",
    "\n",
    "def frame_list_resize(frame_list,target_height = 224,target_width = 224):\n",
    "    frame_list_new = []\n",
    "    for image in frame_list:\n",
    "        if len(image.shape) == 2:\n",
    "            # 把单通道的灰度图复制三遍变成三通道的图片\n",
    "            image = np.tile(image[:, :, None], 3)\n",
    "        elif len(image.shape) == 4:\n",
    "            image = image[:, :, :, 0]\n",
    "\n",
    "        height, width, channels = image.shape            \n",
    "\n",
    "        if height == width:\n",
    "            resized_image = cv2.resize(image, (target_height, target_width))\n",
    "        elif height < width:\n",
    "            #按原图像的比例缩放，剪切\n",
    "            resized_image = cv2.resize(image, (int(width * target_height / height),\n",
    "                                               target_width))\n",
    "            cropping_length = int((resized_image.shape[1] - target_height) / 2)\n",
    "            resized_image = resized_image[:,\n",
    "                                          cropping_length:resized_image.shape[1] - cropping_length]\n",
    "        else:\n",
    "            resized_image = cv2.resize(image, (target_height,\n",
    "                                               int(height * target_width / width)))\n",
    "            cropping_length = int((resized_image.shape[0] - target_width) / 2)\n",
    "            resized_image = resized_image[cropping_length:\n",
    "                                          resized_image.shape[0] - cropping_length] \n",
    "\n",
    "        image = skimage.img_as_float(resized_image).astype(np.float32)\n",
    "        # 根据在ILSVRC数据集上的图像的均值（RGB格式）进行白化\n",
    "        image -= np.array([0.485, 0.456, 0.406])         #优化？？？？\n",
    "        image /= np.array([0.229, 0.224, 0.225])\n",
    "        frame_list_new.append(image)\n",
    "        \n",
    "    return np.array(frame_list_new)\n",
    "\n",
    "frame_list= frame_list_resize(frame_list)\n",
    "print(frame_list.shape)\n",
    "#frame_list = frame_list.transpose((0, 3, 1, 2))       #!!!!!\n",
    "frame_list = tf.to_float(frame_list)\n",
    "#tf.keras.backend.set_session(sess)\n",
    "model_a = tf.keras.applications.resnet50.ResNet50(include_top=False, weights='imagenet',\n",
    "                                                            input_shape=(\n",
    "                                                                224, 224, 3),\n",
    "                                                            pooling='avg')\n",
    "        #'avg' 表示全局平均池将应用于最后一个卷积层的输出，因此模型的输出将是2D张量\n",
    "\n",
    "info = model_a(frame_list)\n",
    "print(info.shape)"
   ]
  },
  {
   "cell_type": "code",
   "execution_count": null,
   "metadata": {},
   "outputs": [],
   "source": [
    "from __future__ import print_function\n",
    "from __future__ import division\n",
    "from __future__ import absolute_import\n",
    "\n",
    "import os\n",
    "import cv2\n",
    "import h5py\n",
    "import numpy as np\n",
    "import skimage\n",
    "import tensorflow as tf\n",
    "\n",
    "video_path = \"../ZJL2478.mp4\"\n",
    "\n",
    "max_frames = 20\n",
    "frames = []\n",
    "frame_count = 0\n",
    "a_feature_size = 2048\n",
    "cap = cv2.VideoCapture(video_path)\n",
    "\n",
    "while True:\n",
    "    ret, frame = cap.read()\n",
    "    \n",
    "    if ret is False:\n",
    "        break\n",
    "    a=frame\n",
    "    frame = frame[:, :, ::-1]         #???????????????\n",
    "    b=frame\n",
    "    frames.append(frame)\n",
    "    frame_count += 1\n",
    "if frames == []:\n",
    "    print(\"can not open %s\", video_path)\n",
    "    \n",
    "indices = np.linspace(8, frame_count - 7, max_frames, endpoint=False, dtype=int)\n",
    "frames = np.array(frames)\n",
    "frame_list = frames[indices]\n",
    "clip_list = []\n",
    "for index in indices:\n",
    "    clip_list.append(frames[index - 8:index + 8])\n",
    "clip_list = np.array(clip_list)\n",
    "\n",
    "def frame_list_resize(frame_list,target_height = 224,target_width = 224):\n",
    "    frame_list_new = []\n",
    "    for image in frame_list:\n",
    "        if len(image.shape) == 2:\n",
    "            # 把单通道的灰度图复制三遍变成三通道的图片\n",
    "            image = np.tile(image[:, :, None], 3)\n",
    "        elif len(image.shape) == 4:\n",
    "            image = image[:, :, :, 0]\n",
    "\n",
    "        height, width, channels = image.shape            \n",
    "\n",
    "        if height == width:\n",
    "            resized_image = cv2.resize(image, (target_height, target_width))\n",
    "        elif height < width:\n",
    "            #按原图像的比例缩放，剪切\n",
    "            resized_image = cv2.resize(image, (int(width * target_height / height),\n",
    "                                               target_width))\n",
    "            cropping_length = int((resized_image.shape[1] - target_height) / 2)\n",
    "            resized_image = resized_image[:,\n",
    "                                          cropping_length:resized_image.shape[1] - cropping_length]\n",
    "        else:\n",
    "            resized_image = cv2.resize(image, (target_height,\n",
    "                                               int(height * target_width / width)))\n",
    "            cropping_length = int((resized_image.shape[0] - target_width) / 2)\n",
    "            resized_image = resized_image[cropping_length:\n",
    "                                          resized_image.shape[0] - cropping_length] \n",
    "\n",
    "        image = skimage.img_as_float(resized_image).astype(np.float32)\n",
    "        # 根据在ILSVRC数据集上的图像的均值（RGB格式）进行白化\n",
    "        image -= np.array([0.485, 0.456, 0.406])         #优化？？？？\n",
    "        image /= np.array([0.229, 0.224, 0.225])\n",
    "        frame_list_new.append(image)\n",
    "        \n",
    "    return np.array(frame_list_new)\n",
    "\n",
    "frame_list= frame_list_resize(frame_list)\n",
    "frame_list = frame_list.transpose(( 0, 1, 2, 3))       #!!!!!"
   ]
  },
  {
   "cell_type": "code",
   "execution_count": 3,
   "metadata": {},
   "outputs": [
    {
     "name": "stdout",
     "output_type": "stream",
     "text": [
      "(60, 16, 240, 320, 3)\n",
      "(60, 16, 112, 112, 3)\n"
     ]
    }
   ],
   "source": [
    "def resize_frame(image, target_height=224, target_width=224):\n",
    "    if len(image.shape) == 2:\n",
    "        # 把单通道的灰度图复制三遍变成三通道的图片\n",
    "        image = np.tile(image[:, :, None], 3)\n",
    "    elif len(image.shape) == 4:\n",
    "        image = image[:, :, :, 0]\n",
    "\n",
    "    height, width, channels = image.shape\n",
    "    if height == width:\n",
    "        resized_image = cv2.resize(image, (target_height, target_width))\n",
    "    elif height < width:\n",
    "        resized_image = cv2.resize(image, (int(width * target_height / height),\n",
    "                                           target_width))\n",
    "        cropping_length = int((resized_image.shape[1] - target_height) / 2)\n",
    "        resized_image = resized_image[:,\n",
    "                                      cropping_length:resized_image.shape[1] - cropping_length]\n",
    "    else:\n",
    "        resized_image = cv2.resize(image, (target_height,\n",
    "                                           int(height * target_width / width)))\n",
    "        cropping_length = int((resized_image.shape[0] - target_width) / 2)\n",
    "        resized_image = resized_image[cropping_length:\n",
    "                                      resized_image.shape[0] - cropping_length]\n",
    "    return cv2.resize(resized_image, (target_height, target_width))\n",
    "\n",
    "print(clip_list.shape)\n",
    "\n",
    "clip_list = np.array([[resize_frame(x, 112, 112)\n",
    "                               for x in clip] for clip in clip_list])\n",
    "clip_transpose = clip_list.transpose(0, 4, 1, 2, 3).astype(np.float32)\n",
    "\n",
    "clip_list = tf.to_float(clip_list)  \n",
    "clip_transpose = tf.to_float(clip_transpose)\n",
    "\n",
    "print(clip_list.shape)"
   ]
  },
  {
   "cell_type": "code",
   "execution_count": null,
   "metadata": {},
   "outputs": [],
   "source": []
  }
 ],
 "metadata": {
  "kernelspec": {
   "display_name": "Python 3",
   "language": "python",
   "name": "python3"
  },
  "language_info": {
   "codemirror_mode": {
    "name": "ipython",
    "version": 3
   },
   "file_extension": ".py",
   "mimetype": "text/x-python",
   "name": "python",
   "nbconvert_exporter": "python",
   "pygments_lexer": "ipython3",
   "version": "3.5.2"
  }
 },
 "nbformat": 4,
 "nbformat_minor": 2
}
